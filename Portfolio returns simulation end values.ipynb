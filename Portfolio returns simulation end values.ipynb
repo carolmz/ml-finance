{
 "cells": [
  {
   "cell_type": "markdown",
   "id": "1d713657",
   "metadata": {},
   "source": [
    "# Part 1: Historical Data and Stock Betas Analysis "
   ]
  },
  {
   "cell_type": "markdown",
   "id": "78f0c8c2",
   "metadata": {},
   "source": [
    "### Step1: Data Collection "
   ]
  },
  {
   "cell_type": "code",
   "execution_count": 24,
   "id": "38ccb8f8",
   "metadata": {
    "scrolled": true
   },
   "outputs": [],
   "source": [
    "#Install yfinance lib\n",
    "!pip install yfinance"
   ]
  },
  {
   "cell_type": "code",
   "execution_count": 2,
   "id": "0303734b",
   "metadata": {},
   "outputs": [
    {
     "data": {
      "text/html": [
       "<div>\n",
       "<style scoped>\n",
       "    .dataframe tbody tr th:only-of-type {\n",
       "        vertical-align: middle;\n",
       "    }\n",
       "\n",
       "    .dataframe tbody tr th {\n",
       "        vertical-align: top;\n",
       "    }\n",
       "\n",
       "    .dataframe thead th {\n",
       "        text-align: right;\n",
       "    }\n",
       "</style>\n",
       "<table border=\"1\" class=\"dataframe\">\n",
       "  <thead>\n",
       "    <tr style=\"text-align: right;\">\n",
       "      <th></th>\n",
       "      <th>AMZN</th>\n",
       "      <th>JPM</th>\n",
       "      <th>RACE</th>\n",
       "      <th>TSLA</th>\n",
       "      <th>^GSPC</th>\n",
       "      <th>^IRX</th>\n",
       "    </tr>\n",
       "    <tr>\n",
       "      <th>Date</th>\n",
       "      <th></th>\n",
       "      <th></th>\n",
       "      <th></th>\n",
       "      <th></th>\n",
       "      <th></th>\n",
       "      <th></th>\n",
       "    </tr>\n",
       "  </thead>\n",
       "  <tbody>\n",
       "    <tr>\n",
       "      <th>2013-01-13</th>\n",
       "      <td>0.033919</td>\n",
       "      <td>0.017196</td>\n",
       "      <td>NaN</td>\n",
       "      <td>-0.043314</td>\n",
       "      <td>0.003805</td>\n",
       "      <td>-0.030769</td>\n",
       "    </tr>\n",
       "    <tr>\n",
       "      <th>2013-01-20</th>\n",
       "      <td>0.015600</td>\n",
       "      <td>0.006936</td>\n",
       "      <td>NaN</td>\n",
       "      <td>0.048921</td>\n",
       "      <td>0.009463</td>\n",
       "      <td>0.111111</td>\n",
       "    </tr>\n",
       "    <tr>\n",
       "      <th>2013-01-27</th>\n",
       "      <td>0.043620</td>\n",
       "      <td>0.015066</td>\n",
       "      <td>NaN</td>\n",
       "      <td>0.071263</td>\n",
       "      <td>0.011427</td>\n",
       "      <td>0.000000</td>\n",
       "    </tr>\n",
       "    <tr>\n",
       "      <th>2013-02-03</th>\n",
       "      <td>-0.066869</td>\n",
       "      <td>0.014631</td>\n",
       "      <td>NaN</td>\n",
       "      <td>0.035695</td>\n",
       "      <td>0.006793</td>\n",
       "      <td>-0.142857</td>\n",
       "    </tr>\n",
       "    <tr>\n",
       "      <th>2013-02-10</th>\n",
       "      <td>-0.011509</td>\n",
       "      <td>0.016301</td>\n",
       "      <td>NaN</td>\n",
       "      <td>0.024543</td>\n",
       "      <td>0.003146</td>\n",
       "      <td>0.083333</td>\n",
       "    </tr>\n",
       "  </tbody>\n",
       "</table>\n",
       "</div>"
      ],
      "text/plain": [
       "                AMZN       JPM  RACE      TSLA     ^GSPC      ^IRX\n",
       "Date                                                              \n",
       "2013-01-13  0.033919  0.017196   NaN -0.043314  0.003805 -0.030769\n",
       "2013-01-20  0.015600  0.006936   NaN  0.048921  0.009463  0.111111\n",
       "2013-01-27  0.043620  0.015066   NaN  0.071263  0.011427  0.000000\n",
       "2013-02-03 -0.066869  0.014631   NaN  0.035695  0.006793 -0.142857\n",
       "2013-02-10 -0.011509  0.016301   NaN  0.024543  0.003146  0.083333"
      ]
     },
     "execution_count": 2,
     "metadata": {},
     "output_type": "execute_result"
    }
   ],
   "source": [
    "# Importing necessary libraries\n",
    "import numpy as np  # library for numerical operations\n",
    "import pandas as pd  # library for data manipulation and analysis\n",
    "import yfinance as yf  # library to download financial data from Yahoo Finance\n",
    "import warnings  # library for handling warnings\n",
    "import pandas_datareader as pdr\n",
    "\n",
    "\n",
    "# Defining the start and end dates for the period we want to study (10Y)\n",
    "start = '2013-01-02'\n",
    "end = '2022-12-31'\n",
    "\n",
    "# Defining the ticker symbols for the companies we are interested in\n",
    "tickers = ['RACE', 'TSLA', 'JPM', 'AMZN', '^GSPC', '^IRX']\n",
    "my_assets = ['RACE', 'TSLA', 'JPM', 'AMZN']\n",
    "\n",
    "# Downloading the historical data for the selected ticker symbols over the defined period\n",
    "data = yf.download(tickers,\n",
    "                 start=start,\n",
    "                 end=end,\n",
    "                 progress=False)  # Download progress will not be displayed\n",
    "\n",
    "\n",
    "# Calculating the percentage change in prices to get returns and dropping the first row (NaN value)\n",
    "portfolio_data = data['Adj Close'].resample('W') \\\n",
    "                   .last() \\\n",
    "                   .pct_change() \n",
    "\n",
    "portfolio_data = portfolio_data.iloc[1:]\n",
    "\n",
    "# Displaying the first few rows of the portfolio data\n",
    "portfolio_data.head(5)"
   ]
  },
  {
   "cell_type": "markdown",
   "id": "f2d5882b",
   "metadata": {},
   "source": [
    "<b>Note: </b> The historical data for all tickers is available since 2013, except for RACE, which has data available only from 2015-10-21. Therefore, when performing the regression analysis, the information about RACE will be considered starting from its available date in 2015, while the other tickers will be analyzed for the entire period since 2013."
   ]
  },
  {
   "cell_type": "markdown",
   "id": "45b1b44d",
   "metadata": {},
   "source": [
    "### Step 2: Beta Estimation"
   ]
  },
  {
   "cell_type": "markdown",
   "id": "c55eeaeb",
   "metadata": {},
   "source": [
    "The following code generates an OLS regression for the beta. The stock AMZN was selected."
   ]
  },
  {
   "cell_type": "code",
   "execution_count": 3,
   "id": "f3c3666f",
   "metadata": {},
   "outputs": [
    {
     "name": "stdout",
     "output_type": "stream",
     "text": [
      "                            OLS Regression Results                            \n",
      "==============================================================================\n",
      "Dep. Variable:                   AMZN   R-squared:                       0.298\n",
      "Model:                            OLS   Adj. R-squared:                  0.297\n",
      "Method:                 Least Squares   F-statistic:                     220.7\n",
      "Date:                Fri, 21 Jul 2023   Prob (F-statistic):           7.40e-42\n",
      "Time:                        18:38:29   Log-Likelihood:                 1001.5\n",
      "No. Observations:                 521   AIC:                            -1999.\n",
      "Df Residuals:                     519   BIC:                            -1990.\n",
      "Df Model:                           1                                         \n",
      "Covariance Type:            nonrobust                                         \n",
      "==============================================================================\n",
      "                 coef    std err          t      P>|t|      [0.025      0.975]\n",
      "------------------------------------------------------------------------------\n",
      "Constant       0.0024      0.002      1.523      0.128      -0.001       0.005\n",
      "Rm_Rf          1.0131      0.068     14.856      0.000       0.879       1.147\n",
      "==============================================================================\n",
      "Omnibus:                       72.521   Durbin-Watson:                   2.067\n",
      "Prob(Omnibus):                  0.000   Jarque-Bera (JB):              445.331\n",
      "Skew:                           0.397   Prob(JB):                     1.98e-97\n",
      "Kurtosis:                       7.459   Cond. No.                         43.9\n",
      "==============================================================================\n",
      "\n",
      "Notes:\n",
      "[1] Standard Errors assume that the covariance matrix of the errors is correctly specified.\n"
     ]
    }
   ],
   "source": [
    "import statsmodels.api as sm\n",
    "\n",
    "# The risk-free rate is annual, so it is divided by 52 to get the weekly rate\n",
    "Rm_Rf = portfolio_data['^GSPC']- portfolio_data['^IRX']*0.01/52\n",
    "\n",
    "# Adding a constant to our independent variables for our regression analysis\n",
    "Rm_Rf = sm.add_constant(Rm_Rf).rename(columns={'const' : 'Constant', 0: 'Rm_Rf'})\n",
    "\n",
    "# Fitting an ordinary least squares (OLS) regression model\n",
    "capm_model = sm.OLS(portfolio_data['AMZN'],Rm_Rf).fit()\n",
    "print(capm_model.summary())"
   ]
  },
  {
   "cell_type": "markdown",
   "id": "eeff0767",
   "metadata": {},
   "source": [
    "### Step 3: Reporting"
   ]
  },
  {
   "cell_type": "markdown",
   "id": "71f51a7e",
   "metadata": {},
   "source": [
    "The following code generates an OLS regression of beta for each of the four tickers"
   ]
  },
  {
   "cell_type": "code",
   "execution_count": 26,
   "id": "cd24de57",
   "metadata": {},
   "outputs": [
    {
     "name": "stdout",
     "output_type": "stream",
     "text": [
      "                            OLS Regression Results                            \n",
      "==============================================================================\n",
      "Dep. Variable:                   RACE   R-squared:                       0.300\n",
      "Model:                            OLS   Adj. R-squared:                  0.298\n",
      "Method:                 Least Squares   F-statistic:                     160.1\n",
      "Date:                Fri, 21 Jul 2023   Prob (F-statistic):           8.78e-31\n",
      "Time:                        18:44:03   Log-Likelihood:                 737.07\n",
      "No. Observations:                 375   AIC:                            -1470.\n",
      "Df Residuals:                     373   BIC:                            -1462.\n",
      "Df Model:                           1                                         \n",
      "Covariance Type:            nonrobust                                         \n",
      "==============================================================================\n",
      "                 coef    std err          t      P>|t|      [0.025      0.975]\n",
      "------------------------------------------------------------------------------\n",
      "Constant       0.0028      0.002      1.596      0.111      -0.001       0.006\n",
      "Rm_Rf          0.8862      0.070     12.654      0.000       0.748       1.024\n",
      "==============================================================================\n",
      "Omnibus:                       20.660   Durbin-Watson:                   2.121\n",
      "Prob(Omnibus):                  0.000   Jarque-Bera (JB):               46.707\n",
      "Skew:                           0.246   Prob(JB):                     7.21e-11\n",
      "Kurtosis:                       4.658   Cond. No.                         39.9\n",
      "==============================================================================\n",
      "\n",
      "Notes:\n",
      "[1] Standard Errors assume that the covariance matrix of the errors is correctly specified.\n",
      "                            OLS Regression Results                            \n",
      "==============================================================================\n",
      "Dep. Variable:                   TSLA   R-squared:                       0.227\n",
      "Model:                            OLS   Adj. R-squared:                  0.225\n",
      "Method:                 Least Squares   F-statistic:                     152.1\n",
      "Date:                Fri, 21 Jul 2023   Prob (F-statistic):           7.88e-31\n",
      "Time:                        18:44:03   Log-Likelihood:                 649.69\n",
      "No. Observations:                 521   AIC:                            -1295.\n",
      "Df Residuals:                     519   BIC:                            -1287.\n",
      "Df Model:                           1                                         \n",
      "Covariance Type:            nonrobust                                         \n",
      "==============================================================================\n",
      "                 coef    std err          t      P>|t|      [0.025      0.975]\n",
      "------------------------------------------------------------------------------\n",
      "Constant       0.0073      0.003      2.375      0.018       0.001       0.013\n",
      "Rm_Rf          1.6521      0.134     12.333      0.000       1.389       1.915\n",
      "==============================================================================\n",
      "Omnibus:                       94.445   Durbin-Watson:                   1.852\n",
      "Prob(Omnibus):                  0.000   Jarque-Bera (JB):              315.012\n",
      "Skew:                           0.820   Prob(JB):                     3.94e-69\n",
      "Kurtosis:                       6.438   Cond. No.                         43.9\n",
      "==============================================================================\n",
      "\n",
      "Notes:\n",
      "[1] Standard Errors assume that the covariance matrix of the errors is correctly specified.\n",
      "                            OLS Regression Results                            \n",
      "==============================================================================\n",
      "Dep. Variable:                    JPM   R-squared:                       0.536\n",
      "Model:                            OLS   Adj. R-squared:                  0.535\n",
      "Method:                 Least Squares   F-statistic:                     598.4\n",
      "Date:                Fri, 21 Jul 2023   Prob (F-statistic):           1.81e-88\n",
      "Time:                        18:44:03   Log-Likelihood:                 1196.1\n",
      "No. Observations:                 521   AIC:                            -2388.\n",
      "Df Residuals:                     519   BIC:                            -2380.\n",
      "Df Model:                           1                                         \n",
      "Covariance Type:            nonrobust                                         \n",
      "==============================================================================\n",
      "                 coef    std err          t      P>|t|      [0.025      0.975]\n",
      "------------------------------------------------------------------------------\n",
      "Constant       0.0009      0.001      0.794      0.428      -0.001       0.003\n",
      "Rm_Rf          1.1481      0.047     24.462      0.000       1.056       1.240\n",
      "==============================================================================\n",
      "Omnibus:                       28.291   Durbin-Watson:                   2.098\n",
      "Prob(Omnibus):                  0.000   Jarque-Bera (JB):               73.866\n",
      "Skew:                           0.210   Prob(JB):                     9.12e-17\n",
      "Kurtosis:                       4.796   Cond. No.                         43.9\n",
      "==============================================================================\n",
      "\n",
      "Notes:\n",
      "[1] Standard Errors assume that the covariance matrix of the errors is correctly specified.\n",
      "                            OLS Regression Results                            \n",
      "==============================================================================\n",
      "Dep. Variable:                   AMZN   R-squared:                       0.298\n",
      "Model:                            OLS   Adj. R-squared:                  0.297\n",
      "Method:                 Least Squares   F-statistic:                     220.7\n",
      "Date:                Fri, 21 Jul 2023   Prob (F-statistic):           7.40e-42\n",
      "Time:                        18:44:03   Log-Likelihood:                 1001.5\n",
      "No. Observations:                 521   AIC:                            -1999.\n",
      "Df Residuals:                     519   BIC:                            -1990.\n",
      "Df Model:                           1                                         \n",
      "Covariance Type:            nonrobust                                         \n",
      "==============================================================================\n",
      "                 coef    std err          t      P>|t|      [0.025      0.975]\n",
      "------------------------------------------------------------------------------\n",
      "Constant       0.0024      0.002      1.523      0.128      -0.001       0.005\n",
      "Rm_Rf          1.0131      0.068     14.856      0.000       0.879       1.147\n",
      "==============================================================================\n",
      "Omnibus:                       72.521   Durbin-Watson:                   2.067\n",
      "Prob(Omnibus):                  0.000   Jarque-Bera (JB):              445.331\n",
      "Skew:                           0.397   Prob(JB):                     1.98e-97\n",
      "Kurtosis:                       7.459   Cond. No.                         43.9\n",
      "==============================================================================\n",
      "\n",
      "Notes:\n",
      "[1] Standard Errors assume that the covariance matrix of the errors is correctly specified.\n"
     ]
    }
   ],
   "source": [
    "import statsmodels.api as sm\n",
    "\n",
    "# The risk-free rate is annual, so it is divided by 52 to get the weekly rate\n",
    "Rm_Rf = portfolio_data['^GSPC']- portfolio_data['^IRX']*0.01/52\n",
    "\n",
    "# Adding a constant to our independent variables for our regression analysis\n",
    "Rm_Rf = sm.add_constant(Rm_Rf).rename(columns={'const' : 'Constant', 0: 'Rm_Rf'})\n",
    "\n",
    "results_dict = {} \n",
    "\n",
    "for asset in my_assets:\n",
    "    # Fitting an ordinary least squares (OLS) regression model\n",
    "    df_portfolio = portfolio_data[asset]\n",
    "    df_Rm_Rf = Rm_Rf.copy()\n",
    "        \n",
    "    if asset == 'RACE':\n",
    "        df_portfolio = df_portfolio.dropna()\n",
    "        df_Rm_Rf = Rm_Rf[Rm_Rf.index >= df_portfolio.index.min()]\n",
    "        \n",
    "    capm_model = sm.OLS(df_portfolio,df_Rm_Rf).fit()\n",
    "    \n",
    "    # Store the results for each asset in the dictionary\n",
    "    results_dict[asset] = {\n",
    "        'Stock Name': asset,\n",
    "        'Coefficient': capm_model.params['Rm_Rf'],\n",
    "        'Standard deviation': df_portfolio.std(),\n",
    "        'Number of observations': len(df_portfolio),\n",
    "        'T-statistic': capm_model.tvalues['Rm_Rf']\n",
    "    }\n",
    "    \n",
    "    print(capm_model.summary())"
   ]
  },
  {
   "cell_type": "markdown",
   "id": "4fdd5237",
   "metadata": {},
   "source": [
    "Based on the provided output of the OLS regression results for each stock, we can see the following: <br>"
   ]
  },
  {
   "cell_type": "code",
   "execution_count": 27,
   "id": "15bee5bd",
   "metadata": {},
   "outputs": [
    {
     "name": "stdout",
     "output_type": "stream",
     "text": [
      "Asset: RACE\n",
      "Coefficient: 0.8862\n",
      "Standard deviation: 0.0406\n",
      "Number of observations: 375\n",
      "T-statistic: 12.6543\n",
      "\n",
      "\n",
      "Asset: TSLA\n",
      "Coefficient: 1.6521\n",
      "Standard deviation: 0.0791\n",
      "Number of observations: 521\n",
      "T-statistic: 12.3333\n",
      "\n",
      "\n",
      "Asset: JPM\n",
      "Coefficient: 1.1481\n",
      "Standard deviation: 0.0358\n",
      "Number of observations: 521\n",
      "T-statistic: 24.4616\n",
      "\n",
      "\n",
      "Asset: AMZN\n",
      "Coefficient: 1.0131\n",
      "Standard deviation: 0.0423\n",
      "Number of observations: 521\n",
      "T-statistic: 14.8563\n",
      "\n",
      "\n"
     ]
    }
   ],
   "source": [
    "# Print the results for all assets after the loop\n",
    "for asset, results in results_dict.items():\n",
    "    print(f\"Asset: {results['Stock Name']}\")\n",
    "    print(f\"Coefficient: {results['Coefficient']:.4f}\")\n",
    "    print(f\"Standard deviation: {results['Standard deviation']:.4f}\")\n",
    "    print(f\"Number of observations: {results['Number of observations']}\")\n",
    "    print(f\"T-statistic: {results['T-statistic']:.4f}\")\n",
    "    print(\"\\n\")"
   ]
  },
  {
   "cell_type": "markdown",
   "id": "e162892d",
   "metadata": {},
   "source": [
    "### Step 4: Comparison of Betas"
   ]
  },
  {
   "cell_type": "markdown",
   "id": "ff3c3d44",
   "metadata": {},
   "source": [
    "<ul>\n",
    "    <li>RACE has a beta of 0.8862, indicating that its returns are less sensitive to market changes. It tends to be less volatile than the overall market. Although Ferrari is a luxury goods company, it is actually resillient under recession, because of its loyal clients and long waiting lists to get these vehicles. <i>(Information about RACE is considered starting from its available date in 2015)</i></li>\n",
    "    <li>TSLA has the highest beta of 1.6521, making it the most sensitive stock to market changes among the listed stocks. TSLA tends to be more volatile than the market, and its returns are strongly influenced by market movements. These is to be expected, as electric vehicles may have a lot of potential but they are still considered to be in a growth phase with uncertainty around mass adoption and infraestructure. \n",
    "        </li>\n",
    "    <li>JPM has a beta of 1.1481, suggesting that it is more sensitive to market changes than RACE but less sensitive than TSLA. It moves more than the market but not as significantly as TSLA. Banks are sensible to markets movements and recessions, as their revenues depend on interest rates. However, JPM is in a mature banking industry with a lot of regulation, compared to TSLA who is an early stage industry.\n",
    "        </li>\n",
    "    <li>AMZN has a beta of 1.0131, very close to 1. This indicates that AMZN's returns move roughly in line with the market, making it relatively less volatile compared to TSLA. This would make sense, as amazon has a well diversified set of goods availabe in its platform, but movements in economic activity will affect the demand for its products.\n",
    "        </li>\n",
    "</ul>\n",
    "\n",
    "\n",
    "In summary, among the listed stocks, TSLA is the most sensitive to market changes, exhibiting higher volatility compared to the overall market. RACE is the least sensitive, showing relatively lower volatility compared to the market. JPM and AMZN fall in between, with JPM being more sensitive to market changes than AMZN but less sensitive than TSLA."
   ]
  },
  {
   "cell_type": "markdown",
   "id": "293c3365",
   "metadata": {},
   "source": [
    "### Step 5: Moving Window Regression"
   ]
  },
  {
   "cell_type": "code",
   "execution_count": 6,
   "id": "49b85a4c",
   "metadata": {},
   "outputs": [
    {
     "data": {
      "text/plain": [
       "<AxesSubplot:title={'center':'Rolling Beta Estimate'}, xlabel='Date'>"
      ]
     },
     "execution_count": 6,
     "metadata": {},
     "output_type": "execute_result"
    },
    {
     "data": {
      "image/png": "[encoded data removed]",
      "text/plain": [
       "<Figure size 432x288 with 1 Axes>"
      ]
     },
     "metadata": {
      "needs_background": "light"
     },
     "output_type": "display_data"
    }
   ],
   "source": [
    "# Importing necessary libraries for the rolling regression\n",
    "from statsmodels.regression.rolling import RollingOLS\n",
    "\n",
    "# Define the start date and the number of weeks in the moving window\n",
    "window_weeks = 157\n",
    "\n",
    "# Create and fit the RollingOLS model\n",
    "rols = RollingOLS(portfolio_data['AMZN'], Rm_Rf, window=window_weeks)\n",
    "rolling_coefficients = rols.fit().params\n",
    "\n",
    "# Plotting the rolling beta estimates (coefficients of 'Rm_Rf' variable)\n",
    "rolling_coefficients['Rm_Rf'].plot(title ='Rolling Beta Estimate')"
   ]
  },
  {
   "cell_type": "markdown",
   "id": "34578f8e",
   "metadata": {},
   "source": [
    "### Step 6: Plotting Beta Values"
   ]
  },
  {
   "cell_type": "code",
   "execution_count": 10,
   "id": "a11895d6",
   "metadata": {},
   "outputs": [
    {
     "data": {
      "image/png": "[encoded data removed]",
      "text/plain": [
       "<Figure size 1152x864 with 4 Axes>"
      ]
     },
     "metadata": {
      "needs_background": "light"
     },
     "output_type": "display_data"
    }
   ],
   "source": [
    "# Importing necessary libraries for the rolling regression\n",
    "from statsmodels.regression.rolling import RollingOLS\n",
    "from matplotlib import pyplot as plt\n",
    "\n",
    "# Define the start date and the number of weeks in the moving window\n",
    "window_weeks = 157\n",
    "\n",
    "# Create a figure with four subplots\n",
    "fig, axes = plt.subplots(2, 2, figsize=(16, 12), sharey=True)\n",
    "\n",
    "        \n",
    "# Perform rolling regression analysis for each stock\n",
    "for idx, asset in enumerate(my_assets):\n",
    "    Retx = portfolio_data[asset]\n",
    "    df_Rm_Rf = Rm_Rf.copy()\n",
    "    \n",
    "    if asset == 'RACE':\n",
    "        Retx = Retx.dropna()\n",
    "        df_Rm_Rf = Rm_Rf[Rm_Rf.index >= Retx.index.min()]\n",
    "        \n",
    "    # Create and fit the RollingOLS model\n",
    "    rols = RollingOLS(Retx, df_Rm_Rf, window=window_weeks)\n",
    "    rolling_coefficients = rols.fit().params\n",
    "\n",
    "    # Display the rolling coefficients for the current window and stock\n",
    "    rolling_coefficients\n",
    "    \n",
    "    row_idx = idx // 2\n",
    "    col_idx = idx % 2\n",
    "    \n",
    "    # Plot the rolling beta estimates (coefficients of 'Rm_Rf' variable) for the current stock\n",
    "    axes[row_idx, col_idx].plot(rolling_coefficients['Rm_Rf'], label='Rolling Beta Estimate')\n",
    "    axes[row_idx, col_idx].set_title(f'Rolling Beta Estimate - {asset}')\n",
    "    axes[row_idx, col_idx].set_xlabel('Date')\n",
    "    axes[row_idx, col_idx].set_ylabel('Beta')\n",
    "        \n",
    "# Adjust layout and spacing between subplots\n",
    "plt.tight_layout()\n",
    "\n",
    "# Display all four plots\n",
    "plt.show()"
   ]
  },
  {
   "cell_type": "markdown",
   "id": "79e226c1",
   "metadata": {},
   "source": [
    "### Step 7: Interpreting the Shift in Tesla's Beta Value Pre and Post Mid-2020 "
   ]
  },
  {
   "cell_type": "markdown",
   "id": "bd237e8c",
   "metadata": {},
   "source": [
    "Going into 2019, the success of various Tesla models and diversification of the company's revenue (i.e solar energy, among others) should have reduced the risk of the stock and less correlated to the market. However, in 2020, The Pandemic and the resulting possibilities of working from home made the growth prospects of mass produced electric vehicles more uncertain, thus making the stock riskier again. We could argue that the more frequent online presence of its CEO in the latest years has made the stock substantially more volatile."
   ]
  },
  {
   "cell_type": "markdown",
   "id": "3210fbee",
   "metadata": {},
   "source": [
    "# Part 2: Geometric Brownian Motion Simulations and Portfolio Value Distribution "
   ]
  },
  {
   "cell_type": "markdown",
   "id": "82c5a653",
   "metadata": {},
   "source": [
    "### Step1: Data Collection "
   ]
  },
  {
   "cell_type": "code",
   "execution_count": 11,
   "id": "29c15639",
   "metadata": {
    "scrolled": true
   },
   "outputs": [
    {
     "name": "stdout",
     "output_type": "stream",
     "text": [
      "[*********************100%***********************]  4 of 4 completed\n"
     ]
    },
    {
     "data": {
      "text/html": [
       "<div>\n",
       "<style scoped>\n",
       "    .dataframe tbody tr th:only-of-type {\n",
       "        vertical-align: middle;\n",
       "    }\n",
       "\n",
       "    .dataframe tbody tr th {\n",
       "        vertical-align: top;\n",
       "    }\n",
       "\n",
       "    .dataframe thead th {\n",
       "        text-align: right;\n",
       "    }\n",
       "</style>\n",
       "<table border=\"1\" class=\"dataframe\">\n",
       "  <thead>\n",
       "    <tr style=\"text-align: right;\">\n",
       "      <th></th>\n",
       "      <th>AA</th>\n",
       "      <th>INTC</th>\n",
       "      <th>JPM</th>\n",
       "      <th>PFE</th>\n",
       "    </tr>\n",
       "    <tr>\n",
       "      <th>Date</th>\n",
       "      <th></th>\n",
       "      <th></th>\n",
       "      <th></th>\n",
       "      <th></th>\n",
       "    </tr>\n",
       "  </thead>\n",
       "  <tbody>\n",
       "    <tr>\n",
       "      <th>2021-07-11</th>\n",
       "      <td>-0.012658</td>\n",
       "      <td>-0.013566</td>\n",
       "      <td>-0.001666</td>\n",
       "      <td>-0.003020</td>\n",
       "    </tr>\n",
       "    <tr>\n",
       "      <th>2021-07-18</th>\n",
       "      <td>-0.119925</td>\n",
       "      <td>-0.018217</td>\n",
       "      <td>-0.024780</td>\n",
       "      <td>0.018682</td>\n",
       "    </tr>\n",
       "    <tr>\n",
       "      <th>2021-07-25</th>\n",
       "      <td>0.124735</td>\n",
       "      <td>-0.035838</td>\n",
       "      <td>-0.008361</td>\n",
       "      <td>0.032962</td>\n",
       "    </tr>\n",
       "    <tr>\n",
       "      <th>2021-08-01</th>\n",
       "      <td>0.083378</td>\n",
       "      <td>0.013585</td>\n",
       "      <td>0.007568</td>\n",
       "      <td>0.036414</td>\n",
       "    </tr>\n",
       "    <tr>\n",
       "      <th>2021-08-08</th>\n",
       "      <td>0.013948</td>\n",
       "      <td>0.010245</td>\n",
       "      <td>0.037686</td>\n",
       "      <td>0.052792</td>\n",
       "    </tr>\n",
       "  </tbody>\n",
       "</table>\n",
       "</div>"
      ],
      "text/plain": [
       "                  AA      INTC       JPM       PFE\n",
       "Date                                              \n",
       "2021-07-11 -0.012658 -0.013566 -0.001666 -0.003020\n",
       "2021-07-18 -0.119925 -0.018217 -0.024780  0.018682\n",
       "2021-07-25  0.124735 -0.035838 -0.008361  0.032962\n",
       "2021-08-01  0.083378  0.013585  0.007568  0.036414\n",
       "2021-08-08  0.013948  0.010245  0.037686  0.052792"
      ]
     },
     "execution_count": 11,
     "metadata": {},
     "output_type": "execute_result"
    }
   ],
   "source": [
    "# Defining the start and end dates for the period we want to study\n",
    "start = '2021-07-01'\n",
    "end = '2023-06-30'\n",
    "T = 252  # Number of trading days in a year\n",
    "N_SIMS = 10000  # Number of simulations to be performed\n",
    "\n",
    "# Defining the ticker symbols for the companies we are interested in\n",
    "tickers2 = ['INTC', 'AA', 'PFE', 'JPM']\n",
    "\n",
    "# Defining the initial portfolio value\n",
    "PORTFOLIO_VALUE = 1000\n",
    "\n",
    "# Calculating the amount of money to be invested in each asset for an equal-weighted portfolio\n",
    "VALUE_PER_ASSET = PORTFOLIO_VALUE / len(tickers2) \n",
    "\n",
    "# Downloading the historical data for the selected ticker symbols over the defined period\n",
    "data2 = yf.download(tickers2,start=start,end=end)  # Download progress will not be displayed\n",
    "\n",
    "adj_close = data2['Adj Close'].resample('W').last()  \n",
    "\n",
    "# Calculating the daily returns\n",
    "returns = adj_close.pct_change().dropna()\n",
    "\n",
    "# Displaying the first few rows of the portfolio data\n",
    "returns.head(5)"
   ]
  },
  {
   "cell_type": "markdown",
   "id": "e30f6a07",
   "metadata": {},
   "source": [
    "### Step 2: Parameter calculation with 2-year sample and simulation "
   ]
  },
  {
   "cell_type": "code",
   "execution_count": 12,
   "id": "3a2ef598",
   "metadata": {},
   "outputs": [],
   "source": [
    "# Calculating the number of shares of each asset to be bought, based on the last available price\n",
    "SHARES = VALUE_PER_ASSET / adj_close.values[len(adj_close)-1, :]  \n",
    "np.round(SHARES, 0) # Rounding the number of shares to the nearest whole number\n",
    "\n",
    "\n",
    "# Computing the covariance matrix of the returns\n",
    "cov_mat = returns.cov()  \n",
    "\n",
    "# Performing a Cholesky decomposition of the covariance matrix\n",
    "chol_mat = np.linalg.cholesky(cov_mat)  "
   ]
  },
  {
   "cell_type": "code",
   "execution_count": 13,
   "id": "93f18225",
   "metadata": {},
   "outputs": [
    {
     "data": {
      "text/plain": [
       "array([[ 0.00950973, -0.0143199 ,  0.0066582 ,  0.07397251],\n",
       "       [ 0.04839914,  0.02742876,  0.02431094,  0.03890903],\n",
       "       [ 0.02179421, -0.00585745,  0.03922446,  0.01608262],\n",
       "       ...,\n",
       "       [ 0.01515544,  0.01199113,  0.03888492, -0.0280838 ],\n",
       "       [-0.00986638,  0.02540007,  0.01823346, -0.0342436 ],\n",
       "       [-0.22716817, -0.05065096, -0.06853063,  0.04834597]])"
      ]
     },
     "metadata": {},
     "output_type": "display_data"
    }
   ],
   "source": [
    "# Generating normally distributed random numbers and applying the Cholesky matrix to induce correlation\n",
    "\n",
    "# Generating random variates\n",
    "rv = np.random.normal(size=(N_SIMS, len(tickers2))) \n",
    "\n",
    "# Applying Cholesky decomposition\n",
    "correlated_rv = np.transpose(np.matmul(chol_mat, np.transpose(rv)))\n",
    "\n",
    "# Displaying the correlated random variables\n",
    "display(correlated_rv)"
   ]
  },
  {
   "cell_type": "code",
   "execution_count": 14,
   "id": "815e4adf",
   "metadata": {},
   "outputs": [],
   "source": [
    "r = np.mean(returns, axis=0).values  # Mean returns for each asset\n",
    "sigma = np.std(returns, axis=0).values  # Standard deviation of returns for each asset\n",
    "S_0 = adj_close.values[(len(adj_close)-1), :]  # Initial asset prices\n",
    "P_0 = np.sum(SHARES * S_0)  # Initial portfolio value\n"
   ]
  },
  {
   "cell_type": "code",
   "execution_count": 15,
   "id": "85e1186c",
   "metadata": {},
   "outputs": [],
   "source": [
    "# Simulating the price of each asset at the end of the period using geometric Brownian motion\n",
    "S_T = S_0 * np.exp((r - 0.5 * sigma ** 2) * T + sigma * np.sqrt(T) * correlated_rv)\n",
    "\n",
    "# Calculating the portfolio value at the end of the period\n",
    "P_T = np.sum(SHARES * S_T, axis=1) \n",
    "\n",
    "# Calculating the difference between the final and initial portfolio values\n",
    "P_diff = P_T - P_0 "
   ]
  },
  {
   "cell_type": "markdown",
   "id": "2f6882ac",
   "metadata": {},
   "source": [
    "### Step 3: Analysis of simulation results "
   ]
  },
  {
   "cell_type": "code",
   "execution_count": 16,
   "id": "a41a468e",
   "metadata": {},
   "outputs": [
    {
     "name": "stdout",
     "output_type": "stream",
     "text": [
      "Portfolio Value Histogram:\n"
     ]
    },
    {
     "data": {
      "image/png": "[encoded data removed]",
      "text/plain": [
       "<Figure size 720x432 with 1 Axes>"
      ]
     },
     "metadata": {
      "needs_background": "light"
     },
     "output_type": "display_data"
    }
   ],
   "source": [
    "print('Portfolio Value Histogram:')\n",
    "plt.figure(figsize=(10, 6))\n",
    "plt.hist(P_T, bins=100, density=True, stacked=True, color='skyblue', edgecolor='black')\n",
    "plt.xlabel('Portfolio Value')\n",
    "plt.ylabel('Probability Density Function')\n",
    "plt.show()"
   ]
  },
  {
   "cell_type": "markdown",
   "id": "704aec5e",
   "metadata": {},
   "source": [
    "#### Summary statistics:"
   ]
  },
  {
   "cell_type": "code",
   "execution_count": 17,
   "id": "52e2985d",
   "metadata": {},
   "outputs": [
    {
     "name": "stdout",
     "output_type": "stream",
     "text": [
      "Mean returns (r): [ 0.0029999  -0.00341495  0.00041232  0.00049593]\n",
      "Standard deviation of returns (sigma): [0.08872848 0.04829747 0.03800451 0.03885108]\n",
      "Initial asset prices (S_0): [ 33.75999832  32.90999985 142.45169067  36.11999893]\n",
      "Initial portfolio value (P_0): 1000.0\n"
     ]
    }
   ],
   "source": [
    "# Adding print statement for mean returns\n",
    "print(f\"Mean returns (r): {r}\")\n",
    "\n",
    "# Adding print statement for standard deviation of returns\n",
    "print(f\"Standard deviation of returns (sigma): {sigma}\")\n",
    "\n",
    "# Adding print statement for initial asset prices\n",
    "print(f\"Initial asset prices (S_0): {S_0}\")\n",
    "\n",
    "# Adding print statement for initial portfolio value\n",
    "print(f\"Initial portfolio value (P_0): {P_0}\")"
   ]
  },
  {
   "cell_type": "markdown",
   "id": "60823a0b",
   "metadata": {},
   "source": [
    "### Step 4: Parameter calculation with 10-year sample and simulation"
   ]
  },
  {
   "cell_type": "code",
   "execution_count": 18,
   "id": "4c6ca842",
   "metadata": {},
   "outputs": [
    {
     "name": "stdout",
     "output_type": "stream",
     "text": [
      "[*********************100%***********************]  4 of 4 completed\n"
     ]
    },
    {
     "data": {
      "text/html": [
       "<div>\n",
       "<style scoped>\n",
       "    .dataframe tbody tr th:only-of-type {\n",
       "        vertical-align: middle;\n",
       "    }\n",
       "\n",
       "    .dataframe tbody tr th {\n",
       "        vertical-align: top;\n",
       "    }\n",
       "\n",
       "    .dataframe thead th {\n",
       "        text-align: right;\n",
       "    }\n",
       "</style>\n",
       "<table border=\"1\" class=\"dataframe\">\n",
       "  <thead>\n",
       "    <tr style=\"text-align: right;\">\n",
       "      <th></th>\n",
       "      <th>AA</th>\n",
       "      <th>INTC</th>\n",
       "      <th>JPM</th>\n",
       "      <th>PFE</th>\n",
       "    </tr>\n",
       "    <tr>\n",
       "      <th>Date</th>\n",
       "      <th></th>\n",
       "      <th></th>\n",
       "      <th></th>\n",
       "      <th></th>\n",
       "    </tr>\n",
       "  </thead>\n",
       "  <tbody>\n",
       "    <tr>\n",
       "      <th>2013-07-14</th>\n",
       "      <td>0.037132</td>\n",
       "      <td>-0.006650</td>\n",
       "      <td>0.018152</td>\n",
       "      <td>0.030033</td>\n",
       "    </tr>\n",
       "    <tr>\n",
       "      <th>2013-07-21</th>\n",
       "      <td>-0.003704</td>\n",
       "      <td>-0.035983</td>\n",
       "      <td>0.021648</td>\n",
       "      <td>0.009719</td>\n",
       "    </tr>\n",
       "    <tr>\n",
       "      <th>2013-07-28</th>\n",
       "      <td>0.000000</td>\n",
       "      <td>0.009549</td>\n",
       "      <td>-0.001959</td>\n",
       "      <td>0.009625</td>\n",
       "    </tr>\n",
       "    <tr>\n",
       "      <th>2013-08-04</th>\n",
       "      <td>-0.012391</td>\n",
       "      <td>-0.001719</td>\n",
       "      <td>0.007850</td>\n",
       "      <td>0.008155</td>\n",
       "    </tr>\n",
       "    <tr>\n",
       "      <th>2013-08-11</th>\n",
       "      <td>0.035294</td>\n",
       "      <td>-0.021092</td>\n",
       "      <td>-0.034874</td>\n",
       "      <td>-0.005448</td>\n",
       "    </tr>\n",
       "  </tbody>\n",
       "</table>\n",
       "</div>"
      ],
      "text/plain": [
       "                  AA      INTC       JPM       PFE\n",
       "Date                                              \n",
       "2013-07-14  0.037132 -0.006650  0.018152  0.030033\n",
       "2013-07-21 -0.003704 -0.035983  0.021648  0.009719\n",
       "2013-07-28  0.000000  0.009549 -0.001959  0.009625\n",
       "2013-08-04 -0.012391 -0.001719  0.007850  0.008155\n",
       "2013-08-11  0.035294 -0.021092 -0.034874 -0.005448"
      ]
     },
     "execution_count": 18,
     "metadata": {},
     "output_type": "execute_result"
    }
   ],
   "source": [
    "# Defining the start and end dates for the period we want to study\n",
    "start = '2013-07-01'\n",
    "end = '2023-06-30'\n",
    "T = 252  # Number of trading days in a year\n",
    "N_SIMS = 10000  # Number of simulations to be performed\n",
    "\n",
    "# Defining the ticker symbols for the companies we are interested in\n",
    "tickers2 = ['INTC', 'AA', 'PFE', 'JPM']\n",
    "\n",
    "# Defining the initial portfolio value\n",
    "PORTFOLIO_VALUE = 1000\n",
    "\n",
    "# Calculating the amount of money to be invested in each asset for an equal-weighted portfolio\n",
    "VALUE_PER_ASSET = PORTFOLIO_VALUE / len(tickers2) \n",
    "\n",
    "# Downloading the historical data for the selected ticker symbols over the defined period\n",
    "data3 = yf.download(tickers2,start=start,end=end)  # Download progress will not be displayed\n",
    "\n",
    "adj_close2 = data3['Adj Close'].resample('W').last()  \n",
    "\n",
    "# Calculating the daily returns\n",
    "returns2 = adj_close2.pct_change().dropna()\n",
    "\n",
    "# Displaying the first few rows of the portfolio data\n",
    "returns2.head(5)"
   ]
  },
  {
   "cell_type": "code",
   "execution_count": 19,
   "id": "2737bfde",
   "metadata": {},
   "outputs": [
    {
     "data": {
      "text/plain": [
       "array([[-0.21252488, -0.06380054, -0.04002634, -0.00523907],\n",
       "       [-0.0153501 ,  0.07135058,  0.00271456,  0.03867995],\n",
       "       [-0.09247481, -0.02004183, -0.03467236, -0.01383237],\n",
       "       ...,\n",
       "       [ 0.1215739 ,  0.07588141,  0.02466357, -0.00459918],\n",
       "       [ 0.0368922 , -0.00962877, -0.01784117,  0.03368808],\n",
       "       [-0.04116856,  0.02018118, -0.02405063, -0.00610093]])"
      ]
     },
     "metadata": {},
     "output_type": "display_data"
    }
   ],
   "source": [
    "# Calculating the number of shares of each asset to be bought, based on the last available price\n",
    "SHARES = VALUE_PER_ASSET / adj_close2.values[len(adj_close2)-1, :]  \n",
    "np.round(SHARES, 0) # Rounding the number of shares to the nearest whole number\n",
    "\n",
    "\n",
    "# Computing the covariance matrix of the returns\n",
    "cov_mat2 = returns2.cov()  \n",
    "\n",
    "# Performing a Cholesky decomposition of the covariance matrix\n",
    "chol_mat2 = np.linalg.cholesky(cov_mat2)  \n",
    "\n",
    "# Generating normally distributed random numbers and applying the Cholesky matrix to induce correlation\n",
    "\n",
    "# Generating random variates\n",
    "rv2 = np.random.normal(size=(N_SIMS, len(tickers2))) \n",
    "\n",
    "# Applying Cholesky decomposition\n",
    "correlated_rv2 = np.transpose(np.matmul(chol_mat2, np.transpose(rv2)))\n",
    "\n",
    "# Displaying the correlated random variables\n",
    "display(correlated_rv2)"
   ]
  },
  {
   "cell_type": "code",
   "execution_count": 20,
   "id": "848e567d",
   "metadata": {},
   "outputs": [],
   "source": [
    "r2 = np.mean(returns2, axis=0).values  # Mean returns for each asset\n",
    "sigma2 = np.std(returns2, axis=0).values  # Standard deviation of returns for each asset\n",
    "S_02 = adj_close2.values[(len(adj_close2)-1), :]  # Initial asset prices\n",
    "P_02 = np.sum(SHARES * S_0)  # Initial portfolio value"
   ]
  },
  {
   "cell_type": "code",
   "execution_count": 21,
   "id": "6282977f",
   "metadata": {},
   "outputs": [],
   "source": [
    "# Simulating the price of each asset at the end of the period using geometric Brownian motion\n",
    "S_T2 = S_02 * np.exp((r - 0.5 * sigma2 ** 2) * T + sigma2 * np.sqrt(T) * correlated_rv2)\n",
    "\n",
    "# Calculating the portfolio value at the end of the period\n",
    "P_T2 = np.sum(SHARES * S_T2, axis=1) \n",
    "\n",
    "# Calculating the difference between the final and initial portfolio values\n",
    "P_diff2 = P_T2 - P_02 "
   ]
  },
  {
   "cell_type": "markdown",
   "id": "bbe0a4c2",
   "metadata": {},
   "source": [
    "### Step 5: Analysis of simulation and comparison with earlier version"
   ]
  },
  {
   "cell_type": "code",
   "execution_count": 22,
   "id": "d2a50e0e",
   "metadata": {},
   "outputs": [
    {
     "name": "stdout",
     "output_type": "stream",
     "text": [
      "Portfolio Value Histogram:\n"
     ]
    },
    {
     "data": {
      "image/png": "[encoded data removed]",
      "text/plain": [
       "<Figure size 720x432 with 1 Axes>"
      ]
     },
     "metadata": {
      "needs_background": "light"
     },
     "output_type": "display_data"
    }
   ],
   "source": [
    "print('Portfolio Value Histogram:')\n",
    "plt.figure(figsize=(10, 6))\n",
    "plt.hist(P_T2, bins=100, density=True, stacked=True, color='skyblue', edgecolor='black')\n",
    "plt.xlabel('Portfolio Value')\n",
    "plt.ylabel('Probability Density Function')\n",
    "plt.show()"
   ]
  },
  {
   "cell_type": "markdown",
   "id": "b88efb22",
   "metadata": {},
   "source": [
    "#### Summary statistics:"
   ]
  },
  {
   "cell_type": "code",
   "execution_count": 23,
   "id": "6cd72755",
   "metadata": {},
   "outputs": [
    {
     "name": "stdout",
     "output_type": "stream",
     "text": [
      "Mean returns (r): [0.00396893 0.00198691 0.00305541 0.00174987]\n",
      "Standard deviation of returns (sigma): [0.07360145 0.04035825 0.03618504 0.03052626]\n",
      "Initial asset prices (S_0): [ 33.75999832  32.90999985 142.45169067  36.11999893]\n",
      "Initial portfolio value (P_0): 1000.0\n"
     ]
    }
   ],
   "source": [
    "# Adding print statement for mean returns\n",
    "print(f\"Mean returns (r): {r2}\")\n",
    "\n",
    "# Adding print statement for standard deviation of returns\n",
    "print(f\"Standard deviation of returns (sigma): {sigma2}\")\n",
    "\n",
    "# Adding print statement for initial asset prices\n",
    "print(f\"Initial asset prices (S_0): {S_02}\")\n",
    "\n",
    "# Adding print statement for initial portfolio value\n",
    "print(f\"Initial portfolio value (P_0): {P_02}\")"
   ]
  },
  {
   "cell_type": "markdown",
   "id": "428bfe1d",
   "metadata": {},
   "source": [
    "#### Differences, if any, in the distribution of final values generated from the 2-year and 10-year parameter simulations\n"
   ]
  },
  {
   "cell_type": "markdown",
   "id": "e109711d",
   "metadata": {},
   "source": [
    "<ul>\n",
    "        <li><strong>Mean Returns:</strong> Both simulations show moderate growth. The 10-year one has slightly better growth, indicating improved long-term performance. (Across all assets)</li>\n",
    "\n",
    "<li><strong>Standard Deviation of Returns:</strong> The 2-year simulation is more volatile, while the 10-year one is more stable.\n",
    "</ul>\n",
    "Overall the 10-year simulation offers a comprehensive view for long-term planning. Short-term is useful for quick decisions and understanding current trends."
   ]
  },
  {
   "cell_type": "markdown",
   "id": "97fdb4fd",
   "metadata": {},
   "source": [
    "#### Reflect on why these differences may exist and what they imply about the use of different time spans in parameter estimation\n"
   ]
  },
  {
   "cell_type": "markdown",
   "id": "f675c0c1",
   "metadata": {},
   "source": [
    "Using data from the past 10 years gives a better understanding of the stock's overall performance, including long-term trends and market behavior. This makes the expected return estimate more stable. However, relying on just the past 2 years may result in a more uncertain estimate due to recent market fluctuations and short-term events, which might not reflect the stock's long-term behavior accurately."
   ]
  }
 ],
 "metadata": {
  "kernelspec": {
   "display_name": "Python 3 (ipykernel)",
   "language": "python",
   "name": "python3"
  },
  "language_info": {
   "codemirror_mode": {
    "name": "ipython",
    "version": 3
   },
   "file_extension": ".py",
   "mimetype": "text/x-python",
   "name": "python",
   "nbconvert_exporter": "python",
   "pygments_lexer": "ipython3",
   "version": "3.9.12"
  }
 },
 "nbformat": 4,
 "nbformat_minor": 5
}
